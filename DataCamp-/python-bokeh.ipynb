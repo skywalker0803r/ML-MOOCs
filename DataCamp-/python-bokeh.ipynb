{
 "cells": [
  {
   "cell_type": "markdown",
   "metadata": {},
   "source": [
    "# Bokeh"
   ]
  },
  {
   "cell_type": "code",
   "execution_count": 1,
   "metadata": {},
   "outputs": [],
   "source": [
    "import numpy as np\n",
    "import pandas as pd"
   ]
  },
  {
   "cell_type": "code",
   "execution_count": 2,
   "metadata": {},
   "outputs": [],
   "source": [
    "from datetime import datetime\n",
    "\n",
    "from bokeh.io import show, output_notebook, output_file, curdoc\n",
    "from bokeh.models import ColumnDataSource, CDSView, GroupFilter\n",
    "from bokeh.models import RangeTool, CrosshairTool, BoxSelectTool, HoverTool, CustomJS\n",
    "from bokeh.layouts import row, column, gridplot\n",
    "from bokeh.plotting import figure\n",
    "from bokeh.palettes import Category20\n",
    "from bokeh.models.widgets import PreText, DataTable, TableColumn, DateFormatter, HTMLTemplateFormatter, TextAreaInput\n",
    "from bokeh.sampledata.stocks import AAPL"
   ]
  },
  {
   "cell_type": "markdown",
   "metadata": {},
   "source": [
    "---"
   ]
  },
  {
   "cell_type": "markdown",
   "metadata": {},
   "source": [
    "The basic steps to creating plots with the bokeh.plotting interface are:\n",
    "\n",
    "- **Prepare some data**\n",
    "    - In this case plain python lists, but could also be NumPy arrays or Pandas series.\n",
    "- **Tell Bokeh where to generate output**\n",
    "    - In this case using `output_file()`, with the filename \"lines.html\".\n",
    "    - Another option is `output_notebook()` for use in Jupyter notebooks.\n",
    "- **Call `figure()`**\n",
    "    - This creates a plot with typical default options and easy customization of title, tools, and axes labels.\n",
    "- **Add renderers**\n",
    "    - In this case, we use `line()` for our data, specifying visual customizations like colors, legends and widths.\n",
    "- **Ask Bokeh to `show()` or `save()` the results**\n",
    "    - These functions save the plot to an HTML file and optionally display it in a browser."
   ]
  },
  {
   "cell_type": "markdown",
   "metadata": {},
   "source": [
    "---"
   ]
  },
  {
   "cell_type": "markdown",
   "metadata": {},
   "source": [
    "Useful Links:\n",
    "\n",
    "- http://www.colors.commutercreative.com/"
   ]
  },
  {
   "cell_type": "markdown",
   "metadata": {},
   "source": [
    "---"
   ]
  },
  {
   "cell_type": "markdown",
   "metadata": {},
   "source": [
    "## Sample Data"
   ]
  },
  {
   "cell_type": "code",
   "execution_count": 3,
   "metadata": {},
   "outputs": [],
   "source": [
    "np.random.seed(0)\n",
    "\n",
    "df = pd.DataFrame(AAPL)[['date', 'adj_close']]\n",
    "df.date = pd.to_datetime(df.date)\n",
    "df.adj_close = df.adj_close.rolling(20).mean()\n",
    "df = df.loc[(df.date >= '2001-01-01') & (df.date < '2004-01-01'), :]\n",
    "\n",
    "df.rename(columns={'adj_close':'px'}, inplace=True)\n",
    "\n",
    "df['bid'] = df.px - 0.5\n",
    "df['ask'] = df.px + 0.5\n",
    "\n",
    "df['rw1'] = np.cumsum(np.random.normal(size=df.shape[0]))\n",
    "df['rw2'] = np.cumsum(np.random.normal(size=df.shape[0]))\n",
    "\n",
    "trade = pd.DataFrame(df.date.sample(100))\n",
    "\n",
    "trade['size'] = np.random.randint(10, 20, size=100)\n",
    "trade['ex'] = np.random.choice(['A','B','C'], size=100)\n",
    "\n",
    "trade = trade.merge(df.px, how='left', left_index=True, right_index=True).sort_index()\n",
    "\n",
    "trade['alert_msg'] = ['This is a very very very long alert message ' + str(i) for i in range(trade.shape[0])]"
   ]
  },
  {
   "cell_type": "code",
   "execution_count": 4,
   "metadata": {},
   "outputs": [
    {
     "data": {
      "text/plain": [
       "(752, 6)"
      ]
     },
     "execution_count": 4,
     "metadata": {},
     "output_type": "execute_result"
    }
   ],
   "source": [
    "df.shape"
   ]
  },
  {
   "cell_type": "code",
   "execution_count": 5,
   "metadata": {},
   "outputs": [
    {
     "data": {
      "text/html": [
       "<div>\n",
       "<style scoped>\n",
       "    .dataframe tbody tr th:only-of-type {\n",
       "        vertical-align: middle;\n",
       "    }\n",
       "\n",
       "    .dataframe tbody tr th {\n",
       "        vertical-align: top;\n",
       "    }\n",
       "\n",
       "    .dataframe thead th {\n",
       "        text-align: right;\n",
       "    }\n",
       "</style>\n",
       "<table border=\"1\" class=\"dataframe\">\n",
       "  <thead>\n",
       "    <tr style=\"text-align: right;\">\n",
       "      <th></th>\n",
       "      <th>date</th>\n",
       "      <th>px</th>\n",
       "      <th>bid</th>\n",
       "      <th>ask</th>\n",
       "      <th>rw1</th>\n",
       "      <th>rw2</th>\n",
       "    </tr>\n",
       "  </thead>\n",
       "  <tbody>\n",
       "    <tr>\n",
       "      <th>212</th>\n",
       "      <td>2001-01-02</td>\n",
       "      <td>7.2265</td>\n",
       "      <td>6.7265</td>\n",
       "      <td>7.7265</td>\n",
       "      <td>1.764052</td>\n",
       "      <td>0.448195</td>\n",
       "    </tr>\n",
       "    <tr>\n",
       "      <th>213</th>\n",
       "      <td>2001-01-03</td>\n",
       "      <td>7.2185</td>\n",
       "      <td>6.7185</td>\n",
       "      <td>7.7185</td>\n",
       "      <td>2.164210</td>\n",
       "      <td>2.144377</td>\n",
       "    </tr>\n",
       "    <tr>\n",
       "      <th>214</th>\n",
       "      <td>2001-01-04</td>\n",
       "      <td>7.2200</td>\n",
       "      <td>6.7200</td>\n",
       "      <td>7.7200</td>\n",
       "      <td>3.142948</td>\n",
       "      <td>2.129519</td>\n",
       "    </tr>\n",
       "    <tr>\n",
       "      <th>215</th>\n",
       "      <td>2001-01-05</td>\n",
       "      <td>7.2700</td>\n",
       "      <td>6.7700</td>\n",
       "      <td>7.7700</td>\n",
       "      <td>5.383841</td>\n",
       "      <td>2.950925</td>\n",
       "    </tr>\n",
       "    <tr>\n",
       "      <th>216</th>\n",
       "      <td>2001-01-08</td>\n",
       "      <td>7.3245</td>\n",
       "      <td>6.8245</td>\n",
       "      <td>7.8245</td>\n",
       "      <td>7.251399</td>\n",
       "      <td>3.621496</td>\n",
       "    </tr>\n",
       "  </tbody>\n",
       "</table>\n",
       "</div>"
      ],
      "text/plain": [
       "          date      px     bid     ask       rw1       rw2\n",
       "212 2001-01-02  7.2265  6.7265  7.7265  1.764052  0.448195\n",
       "213 2001-01-03  7.2185  6.7185  7.7185  2.164210  2.144377\n",
       "214 2001-01-04  7.2200  6.7200  7.7200  3.142948  2.129519\n",
       "215 2001-01-05  7.2700  6.7700  7.7700  5.383841  2.950925\n",
       "216 2001-01-08  7.3245  6.8245  7.8245  7.251399  3.621496"
      ]
     },
     "execution_count": 5,
     "metadata": {},
     "output_type": "execute_result"
    }
   ],
   "source": [
    "df.head()"
   ]
  },
  {
   "cell_type": "code",
   "execution_count": 6,
   "metadata": {},
   "outputs": [
    {
     "data": {
      "text/html": [
       "<div>\n",
       "<style scoped>\n",
       "    .dataframe tbody tr th:only-of-type {\n",
       "        vertical-align: middle;\n",
       "    }\n",
       "\n",
       "    .dataframe tbody tr th {\n",
       "        vertical-align: top;\n",
       "    }\n",
       "\n",
       "    .dataframe thead th {\n",
       "        text-align: right;\n",
       "    }\n",
       "</style>\n",
       "<table border=\"1\" class=\"dataframe\">\n",
       "  <thead>\n",
       "    <tr style=\"text-align: right;\">\n",
       "      <th></th>\n",
       "      <th>date</th>\n",
       "      <th>size</th>\n",
       "      <th>ex</th>\n",
       "      <th>px</th>\n",
       "      <th>alert_msg</th>\n",
       "    </tr>\n",
       "  </thead>\n",
       "  <tbody>\n",
       "    <tr>\n",
       "      <th>223</th>\n",
       "      <td>2001-01-18</td>\n",
       "      <td>17</td>\n",
       "      <td>A</td>\n",
       "      <td>7.7665</td>\n",
       "      <td>This is a very very very long alert message 0</td>\n",
       "    </tr>\n",
       "    <tr>\n",
       "      <th>230</th>\n",
       "      <td>2001-01-29</td>\n",
       "      <td>19</td>\n",
       "      <td>C</td>\n",
       "      <td>8.7200</td>\n",
       "      <td>This is a very very very long alert message 1</td>\n",
       "    </tr>\n",
       "    <tr>\n",
       "      <th>231</th>\n",
       "      <td>2001-01-30</td>\n",
       "      <td>18</td>\n",
       "      <td>B</td>\n",
       "      <td>8.8870</td>\n",
       "      <td>This is a very very very long alert message 2</td>\n",
       "    </tr>\n",
       "    <tr>\n",
       "      <th>245</th>\n",
       "      <td>2001-02-20</td>\n",
       "      <td>11</td>\n",
       "      <td>C</td>\n",
       "      <td>9.8450</td>\n",
       "      <td>This is a very very very long alert message 3</td>\n",
       "    </tr>\n",
       "    <tr>\n",
       "      <th>251</th>\n",
       "      <td>2001-02-28</td>\n",
       "      <td>15</td>\n",
       "      <td>C</td>\n",
       "      <td>9.5935</td>\n",
       "      <td>This is a very very very long alert message 4</td>\n",
       "    </tr>\n",
       "  </tbody>\n",
       "</table>\n",
       "</div>"
      ],
      "text/plain": [
       "          date  size ex      px                                      alert_msg\n",
       "223 2001-01-18    17  A  7.7665  This is a very very very long alert message 0\n",
       "230 2001-01-29    19  C  8.7200  This is a very very very long alert message 1\n",
       "231 2001-01-30    18  B  8.8870  This is a very very very long alert message 2\n",
       "245 2001-02-20    11  C  9.8450  This is a very very very long alert message 3\n",
       "251 2001-02-28    15  C  9.5935  This is a very very very long alert message 4"
      ]
     },
     "execution_count": 6,
     "metadata": {},
     "output_type": "execute_result"
    }
   ],
   "source": [
    "trade.head()"
   ]
  },
  {
   "cell_type": "markdown",
   "metadata": {},
   "source": [
    "---"
   ]
  },
  {
   "cell_type": "markdown",
   "metadata": {},
   "source": [
    "## Visualization"
   ]
  },
  {
   "cell_type": "code",
   "execution_count": 7,
   "metadata": {},
   "outputs": [],
   "source": [
    "def add_vlinked_crosshairs(fig1, fig2):\n",
    "    js_move = '''if(cb_obj.x >= fig.x_range.start && cb_obj.x <= fig.x_range.end && cb_obj.y >= fig.y_range.start && cb_obj.y <= fig.y_range.end)\n",
    "                    { cross.spans.height.computed_location = cb_obj.sx }\n",
    "                 else \n",
    "                    { cross.spans.height.computed_location = null }'''\n",
    "    js_leave = 'cross.spans.height.computed_location = null'\n",
    "\n",
    "    cross1 = CrosshairTool()\n",
    "    cross2 = CrosshairTool()\n",
    "    fig1.add_tools(cross1)\n",
    "    fig2.add_tools(cross2)\n",
    "    args = {'cross': cross2, 'fig': fig1}\n",
    "    fig1.js_on_event('mousemove', CustomJS(args = args, code = js_move))\n",
    "    fig1.js_on_event('mouseleave', CustomJS(args = args, code = js_leave))\n",
    "    args = {'cross': cross1, 'fig': fig2}\n",
    "    fig2.js_on_event('mousemove', CustomJS(args = args, code = js_move))\n",
    "    fig2.js_on_event('mouseleave', CustomJS(args = args, code = js_leave))"
   ]
  },
  {
   "cell_type": "code",
   "execution_count": 8,
   "metadata": {},
   "outputs": [],
   "source": [
    "source = ColumnDataSource(df)\n",
    "tradeSource = ColumnDataSource(trade)\n",
    "\n",
    "output_file('sample.html', mode='inline')\n",
    "\n",
    "############################################################\n",
    "\n",
    "plot = figure(plot_height=400, plot_width=800, tools=\"pan,wheel_zoom,tap,reset\", toolbar_location='right',\n",
    "              x_axis_type=\"datetime\", x_axis_location=None,\n",
    "              background_fill_color=\"#efefef\", x_range=(df.date.iloc[10], df.date.iloc[110]))\n",
    "\n",
    "plot.line('date', 'bid', color='DodgerBlue', line_width=2, source=source)\n",
    "plot.line('date', 'ask', color='Crimson', line_width=2, source=source)\n",
    "\n",
    "for i, mkt in enumerate(trade.ex.unique()):\n",
    "    viewMkt = CDSView(source=tradeSource, filters=[GroupFilter(column_name='ex', group=mkt)])\n",
    "    plot.scatter(x='date', y='px', size='size', color=Category20[20][i], \n",
    "                 alpha=0.5, source=tradeSource, view=viewMkt, legend=mkt)\n",
    "\n",
    "plot.add_tools(BoxSelectTool(dimensions='width')) # to clear selection, press ESC\n",
    "\n",
    "data = dict(\n",
    "    date = [],\n",
    "    px   = [],\n",
    "    size = [],\n",
    "    alert_msg = []\n",
    ")\n",
    "columns = [\n",
    "    TableColumn(field='date', title='Date', width=100, formatter=DateFormatter()),\n",
    "    TableColumn(field='px',   title='Price', width=300),\n",
    "    TableColumn(field='size', title='Size', width=10),\n",
    "    TableColumn(field='alert_msg', title='Alert')\n",
    "]\n",
    "selectedTradeSource = ColumnDataSource(data)\n",
    "fillTable = DataTable(source=selectedTradeSource, columns=columns, editable=True, width=500)\n",
    "\n",
    "tradeSource.selected.js_on_change('indices', CustomJS(args=dict(s1=tradeSource, s2=selectedTradeSource), code='''\n",
    "    var inds = cb_obj.indices;\n",
    "    var d1 = s1.data;\n",
    "    var d2 = s2.data;\n",
    "    d2['date'] = []\n",
    "    d2['px']   = []\n",
    "    d2['size'] = []\n",
    "    d2['alert_msg'] = []\n",
    "    for (var i = 0; i < inds.length; i++) {\n",
    "        d2['date'].push(d1['date'][inds[i]])\n",
    "        d2['px'].push(d1['px'][inds[i]])\n",
    "        d2['size'].push(d1['size'][inds[i]])\n",
    "        d2['alert_msg'].push(d1['alert_msg'][inds[i]])\n",
    "    }\n",
    "    s2.change.emit();\n",
    "'''\n",
    "))\n",
    "\n",
    "plot.legend.location = 'bottom_left'\n",
    "plot.legend.orientation = 'horizontal'\n",
    "plot.legend.click_policy = 'hide'\n",
    "\n",
    "############################################################\n",
    "\n",
    "plot2 = figure(plot_height=130, plot_width=800, tools='xpan', toolbar_location=None,\n",
    "               background_fill_color='#efefef', x_range=plot.x_range)\n",
    "\n",
    "plot2.line('date', 'rw1', color='DodgerBlue', line_width=2, source=source)\n",
    "\n",
    "hover = HoverTool(\n",
    "    tooltips=[\n",
    "        ('Date', '@date{%F}'),\n",
    "        ('Price', '@px')\n",
    "    ],\n",
    "    formatters={\n",
    "        'date':'datetime'\n",
    "    },\n",
    "    mode='vline'\n",
    ")\n",
    "\n",
    "plot2.add_tools(hover)\n",
    "\n",
    "add_vlinked_crosshairs(plot, plot2)\n",
    "\n",
    "############################################################\n",
    "\n",
    "select = figure(title=\"Drag the middle and edges of the selection box to change the range above\",\n",
    "                plot_height=130, plot_width=800,\n",
    "                x_axis_type=\"datetime\", y_axis_type=None,\n",
    "                tools=\"\", toolbar_location=None, background_fill_color=\"#efefef\")\n",
    "\n",
    "range_tool = RangeTool(x_range=plot.x_range)\n",
    "range_tool.overlay.fill_color = \"navy\"\n",
    "range_tool.overlay.fill_alpha = 0.2\n",
    "\n",
    "select.line('date', 'rw2', color='DodgerBlue', line_width=2, source=source)\n",
    "select.ygrid.grid_line_color = None\n",
    "select.add_tools(range_tool)\n",
    "select.toolbar.active_multi = range_tool\n",
    "\n",
    "############################################################\n",
    "\n",
    "#layout = gridplot([[plot2], [plot], [select]])\n",
    "main = column(plot2, plot, select)\n",
    "message = column(fillTable)\n",
    "layout = row(main, message)\n",
    "show(layout)"
   ]
  }
 ],
 "metadata": {
  "kernelspec": {
   "display_name": "Python 3",
   "language": "python",
   "name": "python3"
  },
  "language_info": {
   "codemirror_mode": {
    "name": "ipython",
    "version": 3
   },
   "file_extension": ".py",
   "mimetype": "text/x-python",
   "name": "python",
   "nbconvert_exporter": "python",
   "pygments_lexer": "ipython3",
   "version": "3.7.3"
  }
 },
 "nbformat": 4,
 "nbformat_minor": 2
}
