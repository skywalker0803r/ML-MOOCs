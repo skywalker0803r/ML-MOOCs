{
 "cells": [
  {
   "cell_type": "markdown",
   "metadata": {},
   "source": [
    "# Hierarchical Clustering"
   ]
  },
  {
   "cell_type": "markdown",
   "metadata": {},
   "source": [
    "**Hierarchical clustering** refers to a class of clustering methods that seek to build a **hierarchy** of clusters, in which some clusters contain others. In this assignment, we will explore a top-down approach, recursively bipartitioning the data using k-means."
   ]
  },
  {
   "cell_type": "markdown",
   "metadata": {},
   "source": [
    "## Import packages"
   ]
  },
  {
   "cell_type": "markdown",
   "metadata": {},
   "source": [
    "The following code block will check if you have the correct version of GraphLab Create. Any version later than 1.8.5 will do. To upgrade, read [this page](https://turi.com/download/upgrade-graphlab-create.html)."
   ]
  },
  {
   "cell_type": "code",
   "execution_count": 1,
   "metadata": {},
   "outputs": [],
   "source": [
    "%matplotlib inline"
   ]
  },
  {
   "cell_type": "code",
   "execution_count": 2,
   "metadata": {},
   "outputs": [],
   "source": [
    "import json\n",
    "import numpy as np\n",
    "import pandas as pd"
   ]
  },
  {
   "cell_type": "code",
   "execution_count": 3,
   "metadata": {},
   "outputs": [],
   "source": [
    "from scipy.sparse import csr_matrix\n",
    "from sklearn.cluster import KMeans\n",
    "from sklearn.metrics import pairwise_distances\n",
    "from sklearn.preprocessing import normalize"
   ]
  },
  {
   "cell_type": "markdown",
   "metadata": {},
   "source": [
    "## Load the Wikipedia dataset"
   ]
  },
  {
   "cell_type": "code",
   "execution_count": 4,
   "metadata": {
    "collapsed": true
   },
   "outputs": [
    {
     "data": {
      "text/html": [
       "<div>\n",
       "<style scoped>\n",
       "    .dataframe tbody tr th:only-of-type {\n",
       "        vertical-align: middle;\n",
       "    }\n",
       "\n",
       "    .dataframe tbody tr th {\n",
       "        vertical-align: top;\n",
       "    }\n",
       "\n",
       "    .dataframe thead th {\n",
       "        text-align: right;\n",
       "    }\n",
       "</style>\n",
       "<table border=\"1\" class=\"dataframe\">\n",
       "  <thead>\n",
       "    <tr style=\"text-align: right;\">\n",
       "      <th></th>\n",
       "      <th>URI</th>\n",
       "      <th>name</th>\n",
       "      <th>text</th>\n",
       "    </tr>\n",
       "  </thead>\n",
       "  <tbody>\n",
       "    <tr>\n",
       "      <th>0</th>\n",
       "      <td>&lt;http://dbpedia.org/resource/Digby_Morrell&gt;</td>\n",
       "      <td>Digby Morrell</td>\n",
       "      <td>digby morrell born 10 october 1979 is a former...</td>\n",
       "    </tr>\n",
       "    <tr>\n",
       "      <th>1</th>\n",
       "      <td>&lt;http://dbpedia.org/resource/Alfred_J._Lewy&gt;</td>\n",
       "      <td>Alfred J. Lewy</td>\n",
       "      <td>alfred j lewy aka sandy lewy graduated from un...</td>\n",
       "    </tr>\n",
       "    <tr>\n",
       "      <th>2</th>\n",
       "      <td>&lt;http://dbpedia.org/resource/Harpdog_Brown&gt;</td>\n",
       "      <td>Harpdog Brown</td>\n",
       "      <td>harpdog brown is a singer and harmonica player...</td>\n",
       "    </tr>\n",
       "    <tr>\n",
       "      <th>3</th>\n",
       "      <td>&lt;http://dbpedia.org/resource/Franz_Rottensteiner&gt;</td>\n",
       "      <td>Franz Rottensteiner</td>\n",
       "      <td>franz rottensteiner born in waidmannsfeld lowe...</td>\n",
       "    </tr>\n",
       "    <tr>\n",
       "      <th>4</th>\n",
       "      <td>&lt;http://dbpedia.org/resource/G-Enka&gt;</td>\n",
       "      <td>G-Enka</td>\n",
       "      <td>henry krvits born 30 december 1974 in tallinn ...</td>\n",
       "    </tr>\n",
       "  </tbody>\n",
       "</table>\n",
       "</div>"
      ],
      "text/plain": [
       "                                                 URI                 name  \\\n",
       "0        <http://dbpedia.org/resource/Digby_Morrell>        Digby Morrell   \n",
       "1       <http://dbpedia.org/resource/Alfred_J._Lewy>       Alfred J. Lewy   \n",
       "2        <http://dbpedia.org/resource/Harpdog_Brown>        Harpdog Brown   \n",
       "3  <http://dbpedia.org/resource/Franz_Rottensteiner>  Franz Rottensteiner   \n",
       "4               <http://dbpedia.org/resource/G-Enka>               G-Enka   \n",
       "\n",
       "                                                text  \n",
       "0  digby morrell born 10 october 1979 is a former...  \n",
       "1  alfred j lewy aka sandy lewy graduated from un...  \n",
       "2  harpdog brown is a singer and harmonica player...  \n",
       "3  franz rottensteiner born in waidmannsfeld lowe...  \n",
       "4  henry krvits born 30 december 1974 in tallinn ...  "
      ]
     },
     "execution_count": 4,
     "metadata": {},
     "output_type": "execute_result"
    }
   ],
   "source": [
    "wiki = pd.read_csv('./data/people_wiki.csv')\n",
    "wiki.head()"
   ]
  },
  {
   "cell_type": "markdown",
   "metadata": {},
   "source": [
    "As we did in previous assignments, let's extract the TF-IDF features:"
   ]
  },
  {
   "cell_type": "code",
   "execution_count": 5,
   "metadata": {},
   "outputs": [],
   "source": [
    "def load_sparse_csr(filename):\n",
    "    \n",
    "    loader = np.load(filename)\n",
    "    data = loader['data']\n",
    "    indices = loader['indices']\n",
    "    indptr = loader['indptr']\n",
    "    shape = loader['shape']\n",
    "    \n",
    "    return csr_matrix( (data, indices, indptr), shape )"
   ]
  },
  {
   "cell_type": "code",
   "execution_count": 6,
   "metadata": {},
   "outputs": [],
   "source": [
    "tf_idf = load_sparse_csr('./data/4_tf_idf.npz')\n",
    "tf_idf = normalize(tf_idf)"
   ]
  },
  {
   "cell_type": "code",
   "execution_count": 7,
   "metadata": {},
   "outputs": [],
   "source": [
    "with open('./data/4_map_index_to_word.json') as f:\n",
    "    idx_word_map_dict = json.load(f)\n",
    "\n",
    "map_index_to_word = pd.Series(list(idx_word_map_dict.keys()), index=idx_word_map_dict.values())"
   ]
  },
  {
   "cell_type": "markdown",
   "metadata": {},
   "source": [
    "## Bipartition the Wikipedia dataset using k-means"
   ]
  },
  {
   "cell_type": "markdown",
   "metadata": {},
   "source": [
    "Recall our workflow for clustering text data with k-means:\n",
    "\n",
    "1. Load the dataframe containing a dataset, such as the Wikipedia text dataset.\n",
    "2. Extract the data matrix from the dataframe.\n",
    "3. Run k-means on the data matrix with some value of k.\n",
    "4. Visualize the clustering results using the centroids, cluster assignments, and the original dataframe. We keep the original dataframe around because the data matrix does not keep auxiliary information (in the case of the text dataset, the title of each article).\n",
    "\n",
    "Let us modify the workflow to perform bipartitioning:\n",
    "\n",
    "1. Load the dataframe containing a dataset, such as the Wikipedia text dataset.\n",
    "2. Extract the data matrix from the dataframe.\n",
    "3. Run k-means on the data matrix with k=2.\n",
    "4. Divide the data matrix into two parts using the cluster assignments.\n",
    "5. Divide the dataframe into two parts, again using the cluster assignments. This step is necessary to allow for visualization.\n",
    "6. Visualize the bipartition of data.\n",
    "\n",
    "We'd like to be able to repeat Steps 3-6 multiple times to produce a **hierarchy** of clusters such as the following:\n",
    "```\n",
    "                      (root)\n",
    "                         |\n",
    "            +------------+-------------+\n",
    "            |                          |\n",
    "         Cluster                    Cluster\n",
    "     +------+-----+             +------+-----+\n",
    "     |            |             |            |\n",
    "   Cluster     Cluster       Cluster      Cluster\n",
    "```\n",
    "Each **parent cluster** is bipartitioned to produce two **child clusters**. At the very top is the **root cluster**, which consists of the entire dataset.\n",
    "\n",
    "Now we write a wrapper function to bipartition a given cluster using k-means. There are three variables that together comprise the cluster:\n",
    "\n",
    "* `dataframe`: a subset of the original dataframe that correspond to member rows of the cluster\n",
    "* `matrix`: same set of rows, stored in sparse matrix format\n",
    "* `centroid`: the centroid of the cluster (not applicable for the root cluster)\n",
    "\n",
    "Rather than passing around the three variables separately, we package them into a Python dictionary. The wrapper function takes a single dictionary (representing a parent cluster) and returns two dictionaries (representing the child clusters)."
   ]
  },
  {
   "cell_type": "code",
   "execution_count": 8,
   "metadata": {
    "collapsed": false
   },
   "outputs": [],
   "source": [
    "def bipartition(cluster, maxiter=400, num_runs=4, seed=None):\n",
    "    '''cluster: should be a dictionary containing the following keys\n",
    "                * dataframe: original dataframe\n",
    "                * matrix:    same data, in matrix format\n",
    "                * centroid:  centroid for this particular cluster'''\n",
    "    \n",
    "    data_matrix = cluster['matrix']\n",
    "    dataframe   = cluster['dataframe']\n",
    "    \n",
    "    # Run k-means on the data matrix with k=2. We use scikit-learn here to simplify workflow.\n",
    "    kmeans_model = KMeans(n_clusters=2, max_iter=maxiter, n_init=num_runs, random_state=seed, n_jobs=1)\n",
    "    kmeans_model.fit(data_matrix)\n",
    "    centroids, cluster_assignment = kmeans_model.cluster_centers_, kmeans_model.labels_\n",
    "    \n",
    "    # Divide the data matrix into two parts using the cluster assignments.\n",
    "    data_matrix_left_child, data_matrix_right_child = data_matrix[cluster_assignment==0], \\\n",
    "                                                      data_matrix[cluster_assignment==1]\n",
    "    \n",
    "    # Divide the dataframe into two parts, again using the cluster assignments.\n",
    "    dataframe_left_child, dataframe_right_child = dataframe.loc[cluster_assignment==0,:], \\\n",
    "                                                  dataframe.loc[cluster_assignment==1,:]\n",
    "        \n",
    "    \n",
    "    # Package relevant variables for the child clusters\n",
    "    cluster_left_child  = {'matrix': data_matrix_left_child,\n",
    "                           'dataframe': dataframe_left_child,\n",
    "                           'centroid': centroids[0]}\n",
    "    cluster_right_child = {'matrix': data_matrix_right_child,\n",
    "                           'dataframe': dataframe_right_child,\n",
    "                           'centroid': centroids[1]}\n",
    "    \n",
    "    return (cluster_left_child, cluster_right_child)"
   ]
  },
  {
   "cell_type": "markdown",
   "metadata": {},
   "source": [
    "The following cell performs bipartitioning of the Wikipedia dataset. Allow 20-60 seconds to finish.\n",
    "\n",
    "Note. For the purpose of the assignment, we set an explicit seed (`seed=1`) to produce identical outputs for every run. In pratical applications, you might want to use different random seeds for all runs."
   ]
  },
  {
   "cell_type": "code",
   "execution_count": 9,
   "metadata": {
    "collapsed": false
   },
   "outputs": [],
   "source": [
    "wiki_data = {'matrix': tf_idf, 'dataframe': wiki} # no 'centroid' for the root cluster\n",
    "left_child, right_child = bipartition(wiki_data, maxiter=100, num_runs=6, seed=1)"
   ]
  },
  {
   "cell_type": "markdown",
   "metadata": {},
   "source": [
    "Let's examine the contents of one of the two clusters, which we call the `left_child`, referring to the tree visualization above."
   ]
  },
  {
   "cell_type": "code",
   "execution_count": 10,
   "metadata": {
    "collapsed": false
   },
   "outputs": [
    {
     "data": {
      "text/html": [
       "<div>\n",
       "<style scoped>\n",
       "    .dataframe tbody tr th:only-of-type {\n",
       "        vertical-align: middle;\n",
       "    }\n",
       "\n",
       "    .dataframe tbody tr th {\n",
       "        vertical-align: top;\n",
       "    }\n",
       "\n",
       "    .dataframe thead th {\n",
       "        text-align: right;\n",
       "    }\n",
       "</style>\n",
       "<table border=\"1\" class=\"dataframe\">\n",
       "  <thead>\n",
       "    <tr style=\"text-align: right;\">\n",
       "      <th></th>\n",
       "      <th>URI</th>\n",
       "      <th>name</th>\n",
       "      <th>text</th>\n",
       "    </tr>\n",
       "  </thead>\n",
       "  <tbody>\n",
       "    <tr>\n",
       "      <th>1</th>\n",
       "      <td>&lt;http://dbpedia.org/resource/Alfred_J._Lewy&gt;</td>\n",
       "      <td>Alfred J. Lewy</td>\n",
       "      <td>alfred j lewy aka sandy lewy graduated from un...</td>\n",
       "    </tr>\n",
       "    <tr>\n",
       "      <th>2</th>\n",
       "      <td>&lt;http://dbpedia.org/resource/Harpdog_Brown&gt;</td>\n",
       "      <td>Harpdog Brown</td>\n",
       "      <td>harpdog brown is a singer and harmonica player...</td>\n",
       "    </tr>\n",
       "    <tr>\n",
       "      <th>3</th>\n",
       "      <td>&lt;http://dbpedia.org/resource/Franz_Rottensteiner&gt;</td>\n",
       "      <td>Franz Rottensteiner</td>\n",
       "      <td>franz rottensteiner born in waidmannsfeld lowe...</td>\n",
       "    </tr>\n",
       "    <tr>\n",
       "      <th>4</th>\n",
       "      <td>&lt;http://dbpedia.org/resource/G-Enka&gt;</td>\n",
       "      <td>G-Enka</td>\n",
       "      <td>henry krvits born 30 december 1974 in tallinn ...</td>\n",
       "    </tr>\n",
       "    <tr>\n",
       "      <th>5</th>\n",
       "      <td>&lt;http://dbpedia.org/resource/Sam_Henderson&gt;</td>\n",
       "      <td>Sam Henderson</td>\n",
       "      <td>sam henderson born october 18 1969 is an ameri...</td>\n",
       "    </tr>\n",
       "  </tbody>\n",
       "</table>\n",
       "</div>"
      ],
      "text/plain": [
       "                                                 URI                 name  \\\n",
       "1       <http://dbpedia.org/resource/Alfred_J._Lewy>       Alfred J. Lewy   \n",
       "2        <http://dbpedia.org/resource/Harpdog_Brown>        Harpdog Brown   \n",
       "3  <http://dbpedia.org/resource/Franz_Rottensteiner>  Franz Rottensteiner   \n",
       "4               <http://dbpedia.org/resource/G-Enka>               G-Enka   \n",
       "5        <http://dbpedia.org/resource/Sam_Henderson>        Sam Henderson   \n",
       "\n",
       "                                                text  \n",
       "1  alfred j lewy aka sandy lewy graduated from un...  \n",
       "2  harpdog brown is a singer and harmonica player...  \n",
       "3  franz rottensteiner born in waidmannsfeld lowe...  \n",
       "4  henry krvits born 30 december 1974 in tallinn ...  \n",
       "5  sam henderson born october 18 1969 is an ameri...  "
      ]
     },
     "execution_count": 10,
     "metadata": {},
     "output_type": "execute_result"
    }
   ],
   "source": [
    "left_child['dataframe'].head()"
   ]
  },
  {
   "cell_type": "markdown",
   "metadata": {},
   "source": [
    "And here is the content of the other cluster we named `right_child`."
   ]
  },
  {
   "cell_type": "code",
   "execution_count": 11,
   "metadata": {
    "collapsed": false
   },
   "outputs": [
    {
     "data": {
      "text/html": [
       "<div>\n",
       "<style scoped>\n",
       "    .dataframe tbody tr th:only-of-type {\n",
       "        vertical-align: middle;\n",
       "    }\n",
       "\n",
       "    .dataframe tbody tr th {\n",
       "        vertical-align: top;\n",
       "    }\n",
       "\n",
       "    .dataframe thead th {\n",
       "        text-align: right;\n",
       "    }\n",
       "</style>\n",
       "<table border=\"1\" class=\"dataframe\">\n",
       "  <thead>\n",
       "    <tr style=\"text-align: right;\">\n",
       "      <th></th>\n",
       "      <th>URI</th>\n",
       "      <th>name</th>\n",
       "      <th>text</th>\n",
       "    </tr>\n",
       "  </thead>\n",
       "  <tbody>\n",
       "    <tr>\n",
       "      <th>0</th>\n",
       "      <td>&lt;http://dbpedia.org/resource/Digby_Morrell&gt;</td>\n",
       "      <td>Digby Morrell</td>\n",
       "      <td>digby morrell born 10 october 1979 is a former...</td>\n",
       "    </tr>\n",
       "    <tr>\n",
       "      <th>17</th>\n",
       "      <td>&lt;http://dbpedia.org/resource/Paddy_Dunne_(Gael...</td>\n",
       "      <td>Paddy Dunne (Gaelic footballer)</td>\n",
       "      <td>paddy dunne was a gaelic football player from ...</td>\n",
       "    </tr>\n",
       "    <tr>\n",
       "      <th>21</th>\n",
       "      <td>&lt;http://dbpedia.org/resource/Ceiron_Thomas&gt;</td>\n",
       "      <td>Ceiron Thomas</td>\n",
       "      <td>ceiron thomas born 23 october 1983 is a welsh ...</td>\n",
       "    </tr>\n",
       "    <tr>\n",
       "      <th>22</th>\n",
       "      <td>&lt;http://dbpedia.org/resource/Adel_Sellimi&gt;</td>\n",
       "      <td>Adel Sellimi</td>\n",
       "      <td>adel sellimi arabic was born on 16 november 19...</td>\n",
       "    </tr>\n",
       "    <tr>\n",
       "      <th>25</th>\n",
       "      <td>&lt;http://dbpedia.org/resource/Vic_Stasiuk&gt;</td>\n",
       "      <td>Vic Stasiuk</td>\n",
       "      <td>victor john stasiuk born may 23 1929 is a reti...</td>\n",
       "    </tr>\n",
       "  </tbody>\n",
       "</table>\n",
       "</div>"
      ],
      "text/plain": [
       "                                                  URI  \\\n",
       "0         <http://dbpedia.org/resource/Digby_Morrell>   \n",
       "17  <http://dbpedia.org/resource/Paddy_Dunne_(Gael...   \n",
       "21        <http://dbpedia.org/resource/Ceiron_Thomas>   \n",
       "22         <http://dbpedia.org/resource/Adel_Sellimi>   \n",
       "25          <http://dbpedia.org/resource/Vic_Stasiuk>   \n",
       "\n",
       "                               name  \\\n",
       "0                     Digby Morrell   \n",
       "17  Paddy Dunne (Gaelic footballer)   \n",
       "21                    Ceiron Thomas   \n",
       "22                     Adel Sellimi   \n",
       "25                      Vic Stasiuk   \n",
       "\n",
       "                                                 text  \n",
       "0   digby morrell born 10 october 1979 is a former...  \n",
       "17  paddy dunne was a gaelic football player from ...  \n",
       "21  ceiron thomas born 23 october 1983 is a welsh ...  \n",
       "22  adel sellimi arabic was born on 16 november 19...  \n",
       "25  victor john stasiuk born may 23 1929 is a reti...  "
      ]
     },
     "execution_count": 11,
     "metadata": {},
     "output_type": "execute_result"
    }
   ],
   "source": [
    "right_child['dataframe'].head()"
   ]
  },
  {
   "cell_type": "markdown",
   "metadata": {},
   "source": [
    "## Visualize the bipartition"
   ]
  },
  {
   "cell_type": "markdown",
   "metadata": {},
   "source": [
    "We provide you with a modified version of the visualization function from the k-means assignment. For each cluster, we print the top 5 words with highest TF-IDF weights in the centroid and display excerpts for the 8 nearest neighbors of the centroid."
   ]
  },
  {
   "cell_type": "code",
   "execution_count": 12,
   "metadata": {
    "collapsed": false,
    "scrolled": true
   },
   "outputs": [],
   "source": [
    "def display_single_tf_idf_cluster(cluster, map_index_to_word):\n",
    "    '''map_index_to_word: SFrame specifying the mapping betweeen words and column indices'''\n",
    "    \n",
    "    wiki_subset   = cluster['dataframe']\n",
    "    tf_idf_subset = cluster['matrix']\n",
    "    centroid      = cluster['centroid']\n",
    "    \n",
    "    # Print top 5 words with largest TF-IDF weights in the cluster\n",
    "    idx = centroid.argsort()[::-1]\n",
    "    for i in range(5):\n",
    "        print('{0:s}:{1:.3f}'.format(map_index_to_word[idx[i]], centroid[idx[i]])),\n",
    "    print('')\n",
    "    \n",
    "    # Compute distances from the centroid to all data points in the cluster.\n",
    "    distances = pairwise_distances(tf_idf_subset, [centroid], metric='euclidean').flatten()\n",
    "    # compute nearest neighbors of the centroid within the cluster.\n",
    "    nearest_neighbors = distances.argsort()\n",
    "    # For 8 nearest neighbors, print the title as well as first 180 characters of text.\n",
    "    # Wrap the text at 80-character mark.\n",
    "    for i in range(8):\n",
    "        text = ' '.join(wiki_subset.iloc[nearest_neighbors[i]]['text'].split(None, 25)[0:25])\n",
    "        print('* {0:50s} {1:.5f}\\n  {2:s}\\n  {3:s}'.format(wiki_subset.iloc[nearest_neighbors[i]]['name'],\n",
    "              distances[nearest_neighbors[i]], text[:90], text[90:180] if len(text) > 90 else ''))\n",
    "    print('')"
   ]
  },
  {
   "cell_type": "markdown",
   "metadata": {},
   "source": [
    "Let's visualize the two child clusters:"
   ]
  },
  {
   "cell_type": "code",
   "execution_count": 13,
   "metadata": {
    "collapsed": false
   },
   "outputs": [
    {
     "name": "stdout",
     "output_type": "stream",
     "text": [
      "she:0.027\n",
      "her:0.018\n",
      "music:0.013\n",
      "film:0.011\n",
      "university:0.011\n",
      "\n",
      "* Kayee Griffin                                      0.97400\n",
      "  kayee frances griffin born 6 february 1950 is an australian politician and former australi\n",
      "  an labor party member of the new south wales legislative council serving\n",
      "* Vanessa Gilmore                                    0.97570\n",
      "  vanessa diane gilmore born october 1956 is a judge on the united states district court for\n",
      "   the southern district of texas she was appointed to\n",
      "* Ellen Christine Christiansen                       0.97746\n",
      "  ellen christine christiansen born 10 december 1964 is a norwegian politician representing \n",
      "  the conservative party and formerly the progress partyborn in oslo she finished her\n",
      "* Anina (singer)                                     0.97806\n",
      "  anina is a norwegian singer and songwriter in 2007 anina got her music degree from the pre\n",
      "  stigious songwriters academy musikmakarna in sweden the same year\n",
      "* Lady Gaga                                          0.97852\n",
      "  stefani joanne angelina germanotta stfni drmnt stefnee jurmnot born march 28 1986 better k\n",
      "  nown by her stage name lady gaga is an american singer and\n",
      "* Sharon Mascall                                     0.97860\n",
      "  sharon mascall also known as sharon mascalldare is a journalist broadcaster and writer bas\n",
      "  ed in adelaide south australia born in hertfordshire uk in 1970 she\n",
      "* Vanessa Walters                                    0.97884\n",
      "  vanessa walters born 1978 in london united kingdom is an english novelist and playwright s\n",
      "  he is also a commentator and critic she is best known\n",
      "* Allison Janney                                     0.97888\n",
      "  allison brooks janney born november 19 1959 is an american actress she is a sixtime primet\n",
      "  ime emmy award winner for her television work and has\n",
      "\n"
     ]
    }
   ],
   "source": [
    "display_single_tf_idf_cluster(left_child, map_index_to_word)"
   ]
  },
  {
   "cell_type": "code",
   "execution_count": 14,
   "metadata": {
    "collapsed": false
   },
   "outputs": [
    {
     "name": "stdout",
     "output_type": "stream",
     "text": [
      "league:0.043\n",
      "season:0.038\n",
      "football:0.031\n",
      "team:0.030\n",
      "played:0.028\n",
      "\n",
      "* Chris Day                                          0.95257\n",
      "  christopher nicholas chris day born 28 july 1975 is an english professional footballer who\n",
      "   plays as a goalkeeper for stevenageday started his career at tottenham\n",
      "* Ashley Prescott                                    0.95418\n",
      "  ashley prescott born 11 september 1972 is a former australian rules footballer he played w\n",
      "  ith the richmond and fremantle football clubs in the afl between\n",
      "* Eric Fox                                           0.95662\n",
      "  eric hollis fox born august 15 1963 in lemoore california is an american professional base\n",
      "  ball coach the 5 ft 10 in 178 m 180 lb\n",
      "* Alex Lawless                                       0.95715\n",
      "  alexander graham alex lawless born 26 march 1985 is a welsh professional footballer who pl\n",
      "  ays for luton town as a midfielderlawless began his career with\n",
      "* Ted Silva                                          0.95875\n",
      "  theodore a silva born august 4 1974 in inglewood california has held numerous roles in ama\n",
      "  teur and professional baseball he has played in the minor\n",
      "* Lindsay Smith (Australian footballer)              0.96023\n",
      "  lindsay smith born 18 july 1982 is a former australian rules footballer who played with ka\n",
      "  ngaroos and carlton in the australian football leaguea tall key\n",
      "* Gordon Astall                                      0.96132\n",
      "  gordon astall born 22 september 1927 is an english former professional footballer he playe\n",
      "  d as an outside right and represented the football league the england\n",
      "* Tom Roach (footballer)                             0.96221\n",
      "  thomas tom roach born 2 september 1985 is an australian rules footballer who played in the\n",
      "   australian football league aflroach is the son of former\n",
      "\n"
     ]
    }
   ],
   "source": [
    "display_single_tf_idf_cluster(right_child, map_index_to_word)"
   ]
  },
  {
   "cell_type": "markdown",
   "metadata": {},
   "source": [
    "The left cluster consists of athletes, whereas the right cluster consists of non-athletes. So far, we have a single-level hierarchy consisting of two clusters, as follows:"
   ]
  },
  {
   "cell_type": "markdown",
   "metadata": {},
   "source": [
    "```\n",
    "                                           Wikipedia\n",
    "                                               +\n",
    "                                               |\n",
    "                    +--------------------------+--------------------+\n",
    "                    |                                               |\n",
    "                    +                                               +\n",
    "                 Athletes                                      Non-athletes\n",
    "```"
   ]
  },
  {
   "cell_type": "markdown",
   "metadata": {},
   "source": [
    "Is this hierarchy good enough? **When building a hierarchy of clusters, we must keep our particular application in mind.** For instance, we might want to build a **directory** for Wikipedia articles. A good directory would let you quickly narrow down your search to a small set of related articles. The categories of athletes and non-athletes are too general to facilitate efficient search. For this reason, we decide to build another level into our hierarchy of clusters with the goal of getting more specific cluster structure at the lower level. To that end, we subdivide both the `athletes` and `non-athletes` clusters."
   ]
  },
  {
   "cell_type": "markdown",
   "metadata": {},
   "source": [
    "## Perform recursive bipartitioning"
   ]
  },
  {
   "cell_type": "markdown",
   "metadata": {},
   "source": [
    "### Cluster of athletes"
   ]
  },
  {
   "cell_type": "markdown",
   "metadata": {},
   "source": [
    "To help identify the clusters we've built so far, let's give them easy-to-read aliases:"
   ]
  },
  {
   "cell_type": "code",
   "execution_count": 15,
   "metadata": {
    "collapsed": true
   },
   "outputs": [],
   "source": [
    "athletes = right_child\n",
    "non_athletes = left_child"
   ]
  },
  {
   "cell_type": "markdown",
   "metadata": {},
   "source": [
    "Using the bipartition function, we produce two child clusters of the athlete cluster:"
   ]
  },
  {
   "cell_type": "code",
   "execution_count": 16,
   "metadata": {
    "collapsed": false
   },
   "outputs": [],
   "source": [
    "# Bipartition the cluster of athletes\n",
    "left_child_athletes, right_child_athletes = bipartition(athletes, maxiter=100, num_runs=6, seed=1)"
   ]
  },
  {
   "cell_type": "markdown",
   "metadata": {},
   "source": [
    "The left child cluster mainly consists of baseball players:"
   ]
  },
  {
   "cell_type": "code",
   "execution_count": 17,
   "metadata": {
    "collapsed": false
   },
   "outputs": [
    {
     "name": "stdout",
     "output_type": "stream",
     "text": [
      "baseball:0.117\n",
      "league:0.103\n",
      "major:0.050\n",
      "games:0.047\n",
      "sox:0.045\n",
      "\n",
      "* Eric Fox                                           0.90350\n",
      "  eric hollis fox born august 15 1963 in lemoore california is an american professional base\n",
      "  ball coach the 5 ft 10 in 178 m 180 lb\n",
      "* Tom Flanigan (baseball)                            0.90430\n",
      "  thomas anthony flanigan born september 6 1934 at cincinnati ohio is a retired american pro\n",
      "  fessional baseball player a 6 ft 3 in 191 m 175\n",
      "* Ted Silva                                          0.90783\n",
      "  theodore a silva born august 4 1974 in inglewood california has held numerous roles in ama\n",
      "  teur and professional baseball he has played in the minor\n",
      "* Sean DePaula                                       0.90902\n",
      "  sean michael depaula born november 7 1973 is an american former major league baseball play\n",
      "  er a pitcher depaula played for the cleveland indians appearing in\n",
      "* Robert Person                                      0.90979\n",
      "  robert alan person is a former major league baseball pitcher who played 9 seasons in major\n",
      "   league baseball two for the new york mets two\n",
      "* Josh Hall (baseball)                               0.91205\n",
      "  joshua alan hall born december 16 1980 in lynchburg virginia is a former major league base\n",
      "  ball starting pitcher he has played in major league baseball\n",
      "* T. J. Bohn                                         0.91425\n",
      "  thomas joseph t j bohn born january 17 1980 in st louis park minnesota is a former major l\n",
      "  eague baseball outfielder he was last affiliated\n",
      "* Jeoff Long                                         0.91475\n",
      "  jeoffrey keith long born october 9 1941 is an american former professional baseball player\n",
      "   although he began his career as a pitcher long struggled on\n",
      "\n"
     ]
    }
   ],
   "source": [
    "display_single_tf_idf_cluster(left_child_athletes, map_index_to_word)"
   ]
  },
  {
   "cell_type": "markdown",
   "metadata": {},
   "source": [
    "On the other hand, the right child cluster is a mix of players in association football, Austrailian rules football and ice hockey:"
   ]
  },
  {
   "cell_type": "code",
   "execution_count": 18,
   "metadata": {
    "collapsed": false
   },
   "outputs": [
    {
     "name": "stdout",
     "output_type": "stream",
     "text": [
      "football:0.038\n",
      "season:0.036\n",
      "team:0.033\n",
      "league:0.031\n",
      "played:0.029\n",
      "\n",
      "* Chris Day                                          0.95198\n",
      "  christopher nicholas chris day born 28 july 1975 is an english professional footballer who\n",
      "   plays as a goalkeeper for stevenageday started his career at tottenham\n",
      "* Ashley Prescott                                    0.95233\n",
      "  ashley prescott born 11 september 1972 is a former australian rules footballer he played w\n",
      "  ith the richmond and fremantle football clubs in the afl between\n",
      "* Alex Lawless                                       0.95581\n",
      "  alexander graham alex lawless born 26 march 1985 is a welsh professional footballer who pl\n",
      "  ays for luton town as a midfielderlawless began his career with\n",
      "* Gordon Astall                                      0.95953\n",
      "  gordon astall born 22 september 1927 is an english former professional footballer he playe\n",
      "  d as an outside right and represented the football league the england\n",
      "* Gary Kelly (footballer, born 1966)                 0.95986\n",
      "  gary kelly born 3 august 1966 in preston is an irish former professional football goalkeep\n",
      "  er he is the son of former republic of ireland goalkeeper\n",
      "* Lindsay Smith (Australian footballer)              0.96021\n",
      "  lindsay smith born 18 july 1982 is a former australian rules footballer who played with ka\n",
      "  ngaroos and carlton in the australian football leaguea tall key\n",
      "* Kevin Keegan                                       0.96080\n",
      "  joseph kevin keegan obe born 14 february 1951 is an english former football player and man\n",
      "  ager he played for several clubs including liverpool and hamburger\n",
      "* Paul Mariner                                       0.96154\n",
      "  paul mariner born 22 may 1953 is an english football coach and retired player he was most \n",
      "  recently the head coach and technical director at\n",
      "\n"
     ]
    }
   ],
   "source": [
    "display_single_tf_idf_cluster(right_child_athletes, map_index_to_word)"
   ]
  },
  {
   "cell_type": "markdown",
   "metadata": {},
   "source": [
    "Our hierarchy of clusters now looks like this:\n",
    "```\n",
    "                                           Wikipedia\n",
    "                                               +\n",
    "                                               |\n",
    "                    +--------------------------+--------------------+\n",
    "                    |                                               |\n",
    "                    +                                               +\n",
    "                 Athletes                                      Non-athletes\n",
    "                    +\n",
    "                    |\n",
    "        +-----------+--------+\n",
    "        |                    |\n",
    "        |            association football/\n",
    "        +          Austrailian rules football/\n",
    "     baseball             ice hockey\n",
    "```"
   ]
  },
  {
   "cell_type": "markdown",
   "metadata": {},
   "source": [
    "Should we keep subdividing the clusters? If so, which cluster should we subdivide? To answer this question, we again think about our application. Since we organize our directory by topics, it would be nice to have topics that are about as coarse as each other. For instance, if one cluster is about baseball, we expect some other clusters about football, basketball, volleyball, and so forth. That is, **we would like to achieve similar level of granularity for all clusters.**\n",
    "\n",
    "Notice that the right child cluster is more coarse than the left child cluster. The right cluster posseses a greater variety of topics than the left (ice hockey/association football/Austrialian football vs. baseball). So the right child cluster should be subdivided further to produce finer child clusters."
   ]
  },
  {
   "cell_type": "markdown",
   "metadata": {},
   "source": [
    "Let's give the clusters aliases as well:"
   ]
  },
  {
   "cell_type": "code",
   "execution_count": 19,
   "metadata": {
    "collapsed": true
   },
   "outputs": [],
   "source": [
    "baseball            = left_child_athletes\n",
    "ice_hockey_football = right_child_athletes"
   ]
  },
  {
   "cell_type": "markdown",
   "metadata": {},
   "source": [
    "### Cluster of ice hockey players and football players"
   ]
  },
  {
   "cell_type": "markdown",
   "metadata": {},
   "source": [
    "In answering the following quiz question, take a look at the topics represented in the top documents (those closest to the centroid), as well as the list of words with highest TF-IDF weights.\n",
    "\n",
    "Let us bipartition the cluster of ice hockey and football players."
   ]
  },
  {
   "cell_type": "code",
   "execution_count": 20,
   "metadata": {
    "collapsed": false
   },
   "outputs": [],
   "source": [
    "left_child_ihs, right_child_ihs = bipartition(ice_hockey_football, maxiter=100, num_runs=6, seed=1)"
   ]
  },
  {
   "cell_type": "code",
   "execution_count": 21,
   "metadata": {},
   "outputs": [
    {
     "name": "stdout",
     "output_type": "stream",
     "text": [
      "football:0.051\n",
      "season:0.044\n",
      "league:0.042\n",
      "played:0.037\n",
      "coach:0.035\n",
      "\n",
      "* Chris Day                                          0.94236\n",
      "  christopher nicholas chris day born 28 july 1975 is an english professional footballer who\n",
      "   plays as a goalkeeper for stevenageday started his career at tottenham\n",
      "* Ashley Prescott                                    0.94269\n",
      "  ashley prescott born 11 september 1972 is a former australian rules footballer he played w\n",
      "  ith the richmond and fremantle football clubs in the afl between\n",
      "* Alex Lawless                                       0.94669\n",
      "  alexander graham alex lawless born 26 march 1985 is a welsh professional footballer who pl\n",
      "  ays for luton town as a midfielderlawless began his career with\n",
      "* Lindsay Smith (Australian footballer)              0.95208\n",
      "  lindsay smith born 18 july 1982 is a former australian rules footballer who played with ka\n",
      "  ngaroos and carlton in the australian football leaguea tall key\n",
      "* Gordon Astall                                      0.95240\n",
      "  gordon astall born 22 september 1927 is an english former professional footballer he playe\n",
      "  d as an outside right and represented the football league the england\n",
      "* Tom Roach (footballer)                             0.95440\n",
      "  thomas tom roach born 2 september 1985 is an australian rules footballer who played in the\n",
      "   australian football league aflroach is the son of former\n",
      "* Paul Mariner                                       0.95531\n",
      "  paul mariner born 22 may 1953 is an english football coach and retired player he was most \n",
      "  recently the head coach and technical director at\n",
      "* Steve Arnold (footballer, born 1951)               0.95546\n",
      "  stephen frank arnold born 5 january 1951 is an english former professional footballer who \n",
      "  played in the football league as a midfielder for crewe alexandra\n",
      "\n"
     ]
    }
   ],
   "source": [
    "display_single_tf_idf_cluster(left_child_ihs, map_index_to_word)"
   ]
  },
  {
   "cell_type": "code",
   "execution_count": 22,
   "metadata": {},
   "outputs": [
    {
     "name": "stdout",
     "output_type": "stream",
     "text": [
      "tour:0.048\n",
      "championships:0.047\n",
      "pga:0.041\n",
      "championship:0.039\n",
      "won:0.034\n",
      "\n",
      "* Tim Clark (golfer)                                 0.93468\n",
      "  timothy henry clark born 17 december 1975 is a south african professional golfer who curre\n",
      "  ntly plays on the pga tour his biggest win to date\n",
      "* Ayelech Worku                                      0.93539\n",
      "  ayelech worku born june 12 1979 is an ethiopian longdistance runner most known for winning\n",
      "   two world championships bronze medals on the 5000 metres she\n",
      "* Gonzalo Fern%C3%A1ndez-Casta%C3%B1o                0.94563\n",
      "  gonzalo fernndezcastao born 13 october 1980 is a spanish professional golfer who plays on \n",
      "  the european tourfernndezcastao was born in madrid he turned professional in\n",
      "* Richard Green (golfer)                             0.94577\n",
      "  richard george green born 19 february 1971 is an australian professional golfergreen was b\n",
      "  orn in williamstown melbourne victoria he turned professional in 1992 and joined\n",
      "* Steven Bowditch                                    0.94662\n",
      "  steven bowditch born 8 june 1983 is an australian professional golfer who currently plays \n",
      "  on the pga tour and the pga tour of australasiabowditch was\n",
      "* Jenny Kallur                                       0.94707\n",
      "  jenny margareta kallur swedish pronunciation n kalr born 16 february 1981 is a former swed\n",
      "  ish track and field athlete who competed in hurdling and sprinting\n",
      "* Mike Brisky                                        0.94710\n",
      "  michael charles brisky born may 28 1965 is an american professional golfer who played on t\n",
      "  he pga tour and the nationwide tourbrisky attended pan american\n",
      "* J. J. Henry                                        0.94854\n",
      "  ronald jj henry iii born april 2 1975 is an american professional golfer who plays on the \n",
      "  pga tourhenry was born in fairfield connecticut while\n",
      "\n"
     ]
    }
   ],
   "source": [
    "display_single_tf_idf_cluster(right_child_ihs, map_index_to_word)"
   ]
  },
  {
   "cell_type": "markdown",
   "metadata": {},
   "source": [
    "**Caution**. The granularity criteria is an imperfect heuristic and must be taken with a grain of salt. It takes a lot of manual intervention to obtain a good hierarchy of clusters.\n",
    "\n",
    "* **If a cluster is highly mixed, the top articles and words may not convey the full picture of the cluster.** Thus, we may be misled if we judge the purity of clusters solely by their top documents and words. \n",
    "* **Many interesting topics are hidden somewhere inside the clusters but do not appear in the visualization.** We may need to subdivide further to discover new topics. For instance, subdividing the `ice_hockey_football` cluster led to the appearance of runners and golfers."
   ]
  },
  {
   "cell_type": "markdown",
   "metadata": {},
   "source": [
    "### Cluster of non-athletes"
   ]
  },
  {
   "cell_type": "markdown",
   "metadata": {},
   "source": [
    "Now let us subdivide the cluster of non-athletes."
   ]
  },
  {
   "cell_type": "code",
   "execution_count": 23,
   "metadata": {
    "collapsed": false
   },
   "outputs": [],
   "source": [
    "# Bipartition the cluster of non-athletes\n",
    "left_child_non_athletes, right_child_non_athletes = bipartition(non_athletes, maxiter=100, num_runs=6, seed=1)"
   ]
  },
  {
   "cell_type": "code",
   "execution_count": 24,
   "metadata": {
    "collapsed": false
   },
   "outputs": [
    {
     "name": "stdout",
     "output_type": "stream",
     "text": [
      "he:0.014\n",
      "music:0.013\n",
      "university:0.012\n",
      "film:0.011\n",
      "his:0.009\n",
      "\n",
      "* Andrew Fois                                        0.98060\n",
      "  andrew fois is an attorney living and working in washington dc as of april 9 2012 he will \n",
      "  be serving as the deputy attorney general\n",
      "* Third Hawkins                                      0.98077\n",
      "  born maurice hawkins third hawkins is a recognized music producer in and out of the dmv ar\n",
      "  ea including his hometown of baltimore maryland he has\n",
      "* James A. Paul                                      0.98083\n",
      "  james a paul born june 10 1941 is a writer and nonprofit executive who has worked througho\n",
      "  ut his career in the field of international relations\n",
      "* John Edmondson (musician)                          0.98164\n",
      "  for the australian ww2 victoria cross medal award see john hurst edmondsonjohn baldwin edm\n",
      "  ondson born 3 february 1933 is known throughout the world for his\n",
      "* Deian Hopkin                                       0.98166\n",
      "  sir deian rhys hopkin born 1 march 1944 is president of the national library of wales and \n",
      "  expert adviser to the first minister of wales\n",
      "* Anton Hecht                                        0.98227\n",
      "  anton hecht is an english artist born in london in 2007 he asked musicians from around the\n",
      "   durham area to contribute to a soundtrack for\n",
      "* Bruce Redman                                       0.98255\n",
      "  dr bruce redman born 25 april 1960 is an australian film director film critic radio person\n",
      "  ality and media relations manager he currently works for the\n",
      "* Robert Bates (political scientist)                 0.98279\n",
      "  robert hinrichs bates born 1942 is an american political scientist he is eaton professor o\n",
      "  f the science of government in the departments of government and\n",
      "\n"
     ]
    }
   ],
   "source": [
    "display_single_tf_idf_cluster(left_child_non_athletes, map_index_to_word)"
   ]
  },
  {
   "cell_type": "code",
   "execution_count": 25,
   "metadata": {
    "collapsed": false
   },
   "outputs": [
    {
     "name": "stdout",
     "output_type": "stream",
     "text": [
      "she:0.141\n",
      "her:0.089\n",
      "miss:0.013\n",
      "music:0.013\n",
      "actress:0.012\n",
      "\n",
      "* Kayee Griffin                                      0.93730\n",
      "  kayee frances griffin born 6 february 1950 is an australian politician and former australi\n",
      "  an labor party member of the new south wales legislative council serving\n",
      "* Ellen Christine Christiansen                       0.93783\n",
      "  ellen christine christiansen born 10 december 1964 is a norwegian politician representing \n",
      "  the conservative party and formerly the progress partyborn in oslo she finished her\n",
      "* Dunja Knebl                                        0.93927\n",
      "  dunja knebl born 1946 is an acousticfolk singer from croatiashe was born in zagreb croatia\n",
      "   but has also lived in the usa indonesia and russia\n",
      "* Daphne Khoo                                        0.94136\n",
      "  daphne khoo is a singaporean singer she was a contestant in the first season of singapore \n",
      "  idol finishing up in fourth place second runner up\n",
      "* Priyanka Chopra                                    0.94205\n",
      "  priyanka chopra pronounced prjaka topa born 18 july 1982 is an indian film actress and sin\n",
      "  ger and the winner of the miss world pageant of\n",
      "* Soumya Bollapragada                                0.94297\n",
      "  soumya bollapragada is an indian film actresswriterdirector and model she is the niece of \n",
      "  actress gouthami and has acted in telugu filmsher father divakar is\n",
      "* Allison Janney                                     0.94318\n",
      "  allison brooks janney born november 19 1959 is an american actress she is a sixtime primet\n",
      "  ime emmy award winner for her television work and has\n",
      "* Derartu Tulu                                       0.94463\n",
      "  derartu tulu amharic born march 21 1972 in bekoji ethiopia is an ethiopian long distance t\n",
      "  rack road and marathon athletederartu grew up tending cattle in\n",
      "\n"
     ]
    }
   ],
   "source": [
    "display_single_tf_idf_cluster(right_child_non_athletes, map_index_to_word)"
   ]
  },
  {
   "cell_type": "markdown",
   "metadata": {},
   "source": [
    "Neither of the clusters show clear topics, apart from the genders. Let us divide them further."
   ]
  },
  {
   "cell_type": "code",
   "execution_count": 26,
   "metadata": {
    "collapsed": true
   },
   "outputs": [],
   "source": [
    "male_non_athletes = left_child_non_athletes\n",
    "female_non_athletes = right_child_non_athletes"
   ]
  },
  {
   "cell_type": "markdown",
   "metadata": {},
   "source": [
    "**Quiz Question**. Let us bipartition the clusters `male_non_athletes` and `female_non_athletes`. Which diagram best describes the resulting hierarchy of clusters for the non-athletes? Refer to the quiz for the diagrams.\n",
    "\n",
    "**Note**. Use `maxiter=100, num_runs=6, seed=1` for consistency of output."
   ]
  },
  {
   "cell_type": "code",
   "execution_count": 27,
   "metadata": {
    "collapsed": false
   },
   "outputs": [],
   "source": [
    "lc_male_non_athletes, rc_male_non_athletes = bipartition(male_non_athletes, maxiter=100, num_runs=6, seed=1)"
   ]
  },
  {
   "cell_type": "code",
   "execution_count": 28,
   "metadata": {},
   "outputs": [
    {
     "name": "stdout",
     "output_type": "stream",
     "text": [
      "music:0.026\n",
      "film:0.022\n",
      "band:0.016\n",
      "album:0.016\n",
      "art:0.015\n",
      "\n",
      "* Third Hawkins                                      0.97234\n",
      "  born maurice hawkins third hawkins is a recognized music producer in and out of the dmv ar\n",
      "  ea including his hometown of baltimore maryland he has\n",
      "* Anton Hecht                                        0.97393\n",
      "  anton hecht is an english artist born in london in 2007 he asked musicians from around the\n",
      "   durham area to contribute to a soundtrack for\n",
      "* Rob Zombie                                         0.97494\n",
      "  rob zombie born robert bartleh cummings january 12 1965 is an american musician film direc\n",
      "  tor screenwriter and film producer he rose to prominence as a\n",
      "* Stewart Levine                                     0.97586\n",
      "  stewart levine is an american record producer he has worked with such artists as the crusa\n",
      "  ders minnie riperton lionel richie simply red hugh masekela dr\n",
      "* Tony Mills (musician)                              0.97599\n",
      "  tony mills born 7 july 1962 in solihull england is an english rock singer best known for h\n",
      "  is work with shy and tnthailing from birmingham\n",
      "* Attila Pacsay                                      0.97640\n",
      "  attila pacsay born october 30 1970 is a hungarian composer who is particularly known for h\n",
      "  is music written for films television and the theatre his\n",
      "* Daniel and Laura Curtis                            0.97664\n",
      "  daniel curtis and laura curtis ne coyne are composers and musicians as composers they are \n",
      "  best known for their album love on 42nd street which\n",
      "* John Edmondson (musician)                          0.97670\n",
      "  for the australian ww2 victoria cross medal award see john hurst edmondsonjohn baldwin edm\n",
      "  ondson born 3 february 1933 is known throughout the world for his\n",
      "\n"
     ]
    }
   ],
   "source": [
    "display_single_tf_idf_cluster(lc_male_non_athletes, map_index_to_word)"
   ]
  },
  {
   "cell_type": "code",
   "execution_count": 29,
   "metadata": {},
   "outputs": [
    {
     "name": "stdout",
     "output_type": "stream",
     "text": [
      "university:0.017\n",
      "he:0.015\n",
      "research:0.015\n",
      "law:0.014\n",
      "president:0.014\n",
      "\n",
      "* Andrew Fois                                        0.97357\n",
      "  andrew fois is an attorney living and working in washington dc as of april 9 2012 he will \n",
      "  be serving as the deputy attorney general\n",
      "* James A. Paul                                      0.97605\n",
      "  james a paul born june 10 1941 is a writer and nonprofit executive who has worked througho\n",
      "  ut his career in the field of international relations\n",
      "* Deian Hopkin                                       0.97637\n",
      "  sir deian rhys hopkin born 1 march 1944 is president of the national library of wales and \n",
      "  expert adviser to the first minister of wales\n",
      "* Robert Bates (political scientist)                 0.97642\n",
      "  robert hinrichs bates born 1942 is an american political scientist he is eaton professor o\n",
      "  f the science of government in the departments of government and\n",
      "* Parzival Copes                                     0.97658\n",
      "  parzival copes oc born 22 january 1924 is a canadian economist with a particular interest \n",
      "  in regional science and specialization in fisheries economics and managementborn\n",
      "* Robinson O. Everett                                0.97687\n",
      "  robinson o everett march 18 1928 june 12 2009 was an american lawyer judge and a professor\n",
      "   of law at duke universityeverett was born in\n",
      "* Gregory Mahler                                     0.97717\n",
      "  gregory s mahler born august 12 1950 is an american political scientist with a general int\n",
      "  erest in comparative politics and more specific interests in legislatures\n",
      "* Tyrone Yates                                       0.97799\n",
      "  tyrone keith yatesborn january 22 1954 is a hamilton county municipal court judge he was e\n",
      "  lected on november 8 2011 he was unopposed to fill\n",
      "\n"
     ]
    }
   ],
   "source": [
    "display_single_tf_idf_cluster(rc_male_non_athletes, map_index_to_word)"
   ]
  },
  {
   "cell_type": "code",
   "execution_count": 30,
   "metadata": {
    "collapsed": false
   },
   "outputs": [],
   "source": [
    "lc_female_non_athletes, rc_female_non_athletes = bipartition(female_non_athletes, maxiter=100, num_runs=6, seed=1)"
   ]
  },
  {
   "cell_type": "code",
   "execution_count": 31,
   "metadata": {
    "collapsed": true
   },
   "outputs": [
    {
     "name": "stdout",
     "output_type": "stream",
     "text": [
      "she:0.168\n",
      "her:0.048\n",
      "election:0.036\n",
      "party:0.033\n",
      "council:0.028\n",
      "\n",
      "* Kayee Griffin                                      0.89417\n",
      "  kayee frances griffin born 6 february 1950 is an australian politician and former australi\n",
      "  an labor party member of the new south wales legislative council serving\n",
      "* Ellen Christine Christiansen                       0.91201\n",
      "  ellen christine christiansen born 10 december 1964 is a norwegian politician representing \n",
      "  the conservative party and formerly the progress partyborn in oslo she finished her\n",
      "* Marcelle Mersereau                                 0.92740\n",
      "  marcelle mersereau born february 14 1942 in pointeverte new brunswick is a canadian politi\n",
      "  cian a civil servant for most of her career she also served\n",
      "* Maureen Lyster                                     0.92745\n",
      "  maureen anne lyster born 10 september 1943 is an australian politician she was an australi\n",
      "  an labor party member of the victorian legislative assembly from 1985\n",
      "* Ruth Ryste                                         0.92877\n",
      "  ruth anlaug ryste born 24 july 1932 was a norwegian trade unionist and politician for the \n",
      "  labour partyshe was born in bamble she finished commerce\n",
      "* Sarm%C4%ABte %C4%92lerte                           0.93054\n",
      "  sarmte lerte born 8 april 1957 riga latvian ssr is a latvian politician member of the civi\n",
      "  c union party and the incumbent minister of culture\n",
      "* Lieve Fransen                                      0.93163\n",
      "  lieve fransen md phd is since 2011 the director for social policies in the directorate for\n",
      "   employment and social affairs for the european commission before\n",
      "* Olga Kefalogianni                                  0.94067\n",
      "  olga kefalogianni greek born 29 april 1975 is a greek politician who served as minister of\n",
      "   tourism of the greek government from 2012 to 2015\n",
      "\n"
     ]
    }
   ],
   "source": [
    "display_single_tf_idf_cluster(lc_female_non_athletes, map_index_to_word)"
   ]
  },
  {
   "cell_type": "code",
   "execution_count": 32,
   "metadata": {},
   "outputs": [
    {
     "name": "stdout",
     "output_type": "stream",
     "text": [
      "she:0.135\n",
      "her:0.097\n",
      "miss:0.016\n",
      "music:0.016\n",
      "actress:0.014\n",
      "\n",
      "* Dunja Knebl                                        0.93789\n",
      "  dunja knebl born 1946 is an acousticfolk singer from croatiashe was born in zagreb croatia\n",
      "   but has also lived in the usa indonesia and russia\n",
      "* Priyanka Chopra                                    0.93897\n",
      "  priyanka chopra pronounced prjaka topa born 18 july 1982 is an indian film actress and sin\n",
      "  ger and the winner of the miss world pageant of\n",
      "* Allison Janney                                     0.94071\n",
      "  allison brooks janney born november 19 1959 is an american actress she is a sixtime primet\n",
      "  ime emmy award winner for her television work and has\n",
      "* Daphne Khoo                                        0.94156\n",
      "  daphne khoo is a singaporean singer she was a contestant in the first season of singapore \n",
      "  idol finishing up in fourth place second runner up\n",
      "* Soumya Bollapragada                                0.94334\n",
      "  soumya bollapragada is an indian film actresswriterdirector and model she is the niece of \n",
      "  actress gouthami and has acted in telugu filmsher father divakar is\n",
      "* Kasia Kowalska                                     0.94372\n",
      "  katarzyna kasia kowalska born june 13 1973 in sulejwek poland is a polish pop rock singer \n",
      "  songwriter producer and actressher musical experience began in the\n",
      "* Derartu Tulu                                       0.94441\n",
      "  derartu tulu amharic born march 21 1972 in bekoji ethiopia is an ethiopian long distance t\n",
      "  rack road and marathon athletederartu grew up tending cattle in\n",
      "* Anina (singer)                                     0.94531\n",
      "  anina is a norwegian singer and songwriter in 2007 anina got her music degree from the pre\n",
      "  stigious songwriters academy musikmakarna in sweden the same year\n",
      "\n"
     ]
    }
   ],
   "source": [
    "display_single_tf_idf_cluster(rc_female_non_athletes, map_index_to_word)"
   ]
  }
 ],
 "metadata": {
  "kernelspec": {
   "display_name": "Python 3",
   "language": "python",
   "name": "python3"
  },
  "language_info": {
   "codemirror_mode": {
    "name": "ipython",
    "version": 3
   },
   "file_extension": ".py",
   "mimetype": "text/x-python",
   "name": "python",
   "nbconvert_exporter": "python",
   "pygments_lexer": "ipython3",
   "version": "3.7.3"
  }
 },
 "nbformat": 4,
 "nbformat_minor": 2
}
